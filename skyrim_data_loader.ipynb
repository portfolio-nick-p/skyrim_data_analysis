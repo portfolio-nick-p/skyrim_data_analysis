{
 "cells": [
  {
   "cell_type": "code",
   "execution_count": 1,
   "id": "f1067156",
   "metadata": {},
   "outputs": [],
   "source": [
    "import pandas as pd\n",
    "import sqlite3\n",
    "import csv "
   ]
  },
  {
   "cell_type": "code",
   "execution_count": 2,
   "id": "7f0fedc2",
   "metadata": {},
   "outputs": [],
   "source": [
    "# Error handling\n",
    "try: \n",
    "    # Connect to the database\n",
    "    conn = sqlite3.connect(\"skyrim.db\")\n",
    "    cursonr = conn.cursor()\n",
    "except sqlite3.Error as e:\n",
    "    # If problem\n",
    "    print(\"Error connecting to the database\", e)"
   ]
  },
  {
   "cell_type": "code",
   "execution_count": 3,
   "id": "7975a2b1",
   "metadata": {},
   "outputs": [],
   "source": [
    "try:\n",
    "    # Reading CSVs into a dataframe\n",
    "    game_events = pd.read_csv(r\"C:\\Users\\nickp\\Python Projects\\skyrim\\data\\skyrim_books.csv\")\n",
    "    # Transfering the dataframe into SQLite table\n",
    "    game_events.to_sql(\n",
    "            'books', #name of sqltable\n",
    "            conn, # sqlite.connection or sqlalchemy.engine.Engine\n",
    "            if_exists='replace')\n",
    "    \n",
    "    # Reading CSVs into a dataframe\n",
    "    games = pd.read_csv(r\"C:\\Users\\nickp\\Python Projects\\skyrim\\data\\skyrim_characters.csv\")\n",
    "    # Transfering the dataframe into SQLite table\n",
    "    games.to_sql(\n",
    "            'characters', #name of sqltable\n",
    "            conn, # sqlite.connection or sqlalchemy.engine.Engine\n",
    "            if_exists='replace')\n",
    "    \n",
    "    # Reading CSVs into a dataframe\n",
    "    player_valuations = pd.read_csv(r\"C:\\Users\\nickp\\Python Projects\\skyrim\\data\\skyrim_ingredients.csv\")\n",
    "    player_valuations.to_sql(\n",
    "            'ingredients', #name of sqltable\n",
    "            conn, # sqlite.connection or sqlalchemy.engine.Engine\n",
    "            if_exists='replace')\n",
    "    \n",
    "    # Reading CSVs into a dataframe\n",
    "    players = pd.read_csv(r\"C:\\Users\\nickp\\Python Projects\\skyrim\\data\\skyrim_races.csv\")\n",
    "    players.to_sql(\n",
    "            'races', #name of sqltable\n",
    "            conn, # sqlite.connection or sqlalchemy.engine.Engine\n",
    "            if_exists='replace')\n",
    "    \n",
    "    # Reading CSVs into a dataframe\n",
    "    competitions = pd.read_csv(r\"C:\\Users\\nickp\\Python Projects\\skyrim\\data\\skyrim_wep.csv\")\n",
    "    competitions.to_sql(\n",
    "            'weapons', #name of sqltable\n",
    "            conn, # sqlite.connection or sqlalchemy.engine.Engine\n",
    "            if_exists='replace')\n",
    "    \n",
    "    conn.commit()\n",
    "\n",
    "except sqlite3.Error as e:\n",
    "     # If Problem\n",
    "     print(\"Error creating table:\", e)\n",
    "    \n",
    "conn.close()"
   ]
  },
  {
   "cell_type": "code",
   "execution_count": 7,
   "id": "bed52f02",
   "metadata": {},
   "outputs": [
    {
     "ename": "ProgrammingError",
     "evalue": "Cannot operate on a closed database.",
     "output_type": "error",
     "traceback": [
      "\u001b[1;31m---------------------------------------------------------------------------\u001b[0m",
      "\u001b[1;31mProgrammingError\u001b[0m                          Traceback (most recent call last)",
      "Cell \u001b[1;32mIn[7], line 1\u001b[0m\n\u001b[1;32m----> 1\u001b[0m cursor \u001b[38;5;241m=\u001b[39m \u001b[43mconn\u001b[49m\u001b[38;5;241;43m.\u001b[39;49m\u001b[43mcursor\u001b[49m\u001b[43m(\u001b[49m\u001b[43m)\u001b[49m\n\u001b[0;32m      2\u001b[0m cursor\u001b[38;5;241m.\u001b[39mexecute(\u001b[38;5;124m\"\"\"\u001b[39m\u001b[38;5;124mSELECT * \u001b[39m\n\u001b[0;32m      3\u001b[0m \u001b[38;5;124m                  FROM races\u001b[39m\n\u001b[0;32m      4\u001b[0m \u001b[38;5;124m                  LIMIT 5\u001b[39m\u001b[38;5;124m\"\"\"\u001b[39m)\n\u001b[0;32m      5\u001b[0m cursor\u001b[38;5;241m.\u001b[39mfetchall()\n",
      "\u001b[1;31mProgrammingError\u001b[0m: Cannot operate on a closed database."
     ]
    }
   ],
   "source": [
    "cursor = conn.cursor()\n",
    "cursor.execute(\"\"\"SELECT * \n",
    "                  FROM races\n",
    "                  LIMIT 5\"\"\")\n",
    "cursor.fetchall()"
   ]
  },
  {
   "cell_type": "code",
   "execution_count": null,
   "id": "efdd5377",
   "metadata": {},
   "outputs": [],
   "source": []
  }
 ],
 "metadata": {
  "kernelspec": {
   "display_name": "Python 3 (ipykernel)",
   "language": "python",
   "name": "python3"
  },
  "language_info": {
   "codemirror_mode": {
    "name": "ipython",
    "version": 3
   },
   "file_extension": ".py",
   "mimetype": "text/x-python",
   "name": "python",
   "nbconvert_exporter": "python",
   "pygments_lexer": "ipython3",
   "version": "3.11.3"
  }
 },
 "nbformat": 4,
 "nbformat_minor": 5
}
